{
  "nbformat": 4,
  "nbformat_minor": 0,
  "metadata": {
    "colab": {
      "provenance": [],
      "authorship_tag": "ABX9TyPXPKF1l8h8vfKSs9CN6j4H",
      "include_colab_link": true
    },
    "kernelspec": {
      "name": "python3",
      "display_name": "Python 3"
    },
    "language_info": {
      "name": "python"
    }
  },
  "cells": [
    {
      "cell_type": "markdown",
      "metadata": {
        "id": "view-in-github",
        "colab_type": "text"
      },
      "source": [
        "<a href=\"https://colab.research.google.com/github/Potter943/code_memory/blob/main/assignment2_3.ipynb\" target=\"_parent\"><img src=\"https://colab.research.google.com/assets/colab-badge.svg\" alt=\"Open In Colab\"/></a>"
      ]
    },
    {
      "cell_type": "code",
      "execution_count": 23,
      "metadata": {
        "colab": {
          "base_uri": "https://localhost:8080/"
        },
        "cellView": "code",
        "id": "hAfNOjeJsR9F",
        "outputId": "e51f21bf-e07e-4c67-a905-f8bcc1a8bb73"
      },
      "outputs": [
        {
          "output_type": "stream",
          "name": "stdout",
          "text": [
            "MSE: 5.589301624913766e+18\n",
            "r_squared: 0.017790112135917413\n",
            "30686342319.0\n",
            "46100000.0\n",
            "30686342319.0\n",
            "1.0\n",
            "-----\n",
            "26236790209.0\n",
            "80100000.0\n",
            "26236790209.0\n",
            "1.0\n",
            "-----\n",
            "24118230580.0\n",
            "86900000.0\n",
            "24118230580.0\n",
            "1.0\n",
            "-----\n",
            "22936630813.0\n",
            "46300000.0\n",
            "22936630813.0\n",
            "1.0\n",
            "-----\n",
            "22302547082.0\n",
            "39400000.0\n",
            "22302547082.0\n",
            "1.0\n",
            "-----\n",
            "19398045702.0\n",
            "46800000.0\n",
            "19398045702.0\n",
            "1.0\n",
            "-----\n",
            "18597534412.0\n",
            "26000000.0\n",
            "18597534412.0\n",
            "1.0\n",
            "-----\n",
            "14431830557.0\n",
            "16400000.0\n",
            "14431830557.0\n",
            "1.0\n",
            "-----\n",
            "13959586308.0\n",
            "12400000.0\n",
            "13959586308.0\n",
            "1.0\n",
            "-----\n",
            "13478392540.0\n",
            "16400000.0\n",
            "13478392540.0\n",
            "1.0\n",
            "-----\n"
          ]
        }
      ],
      "source": [
        "import pandas as pd\n",
        "import numpy as np\n",
        "\n",
        "file = pd.read_csv(\"/content/Global_YouTube_Statistics.csv\", encoding='latin-1')\n",
        "#nan 값이 있는 행 삭제 & upload가 0이면 삭제\n",
        "file = file.dropna(subset=['subscribers', 'video views', 'uploads'])\n",
        "file = file[file['uploads'] != 0]\n",
        "\n",
        "subscribers = file['subscribers'].astype(float).to_numpy() #x\n",
        "views = file['video views'].astype(float).to_numpy()\n",
        "uploads = file['uploads'].astype(float).to_numpy()\n",
        "#print(uploads)\n",
        "#print('---upload---')\n",
        "average_view = np.divide(views,uploads) #y\n",
        "#print(average_view)\n",
        "\n",
        "x_mean = np.mean(subscribers)\n",
        "y_mean = np.mean(average_view)\n",
        "n = len(subscribers)\n",
        "\n",
        "subscribers_normalised = (subscribers - x_mean) / np.std(subscribers)\n",
        "average_view_normalised = (average_view - y_mean) / np.std(average_view)\n",
        "\n",
        "a0 = 0.0\n",
        "a1 = 0.0\n",
        "learning_rate = 0.01\n",
        "epochs = 1000\n",
        "\n",
        "for i in range(epochs):\n",
        "\ty_pred = a0 + a1*subscribers_normalised\n",
        "\terror = y_pred - average_view_normalised\n",
        "\n",
        "\tdelta_a0 = np.mean(error)\n",
        "\tdelta_a1 = np.mean(subscribers_normalised*error)\n",
        "\n",
        "\ta0 = a0 - learning_rate*delta_a0\n",
        "\ta1 = a1 - learning_rate*delta_a1\n",
        "\n",
        "norm_pred = a0 + a1*subscribers_normalised\n",
        "real_pred = norm_pred*np.std(average_view) + y_mean\n",
        "\n",
        "#performance test\n",
        "test_error = average_view-real_pred\n",
        "MSE = np.mean(test_error**2)\n",
        "\n",
        "SST = np.sum((average_view - y_mean)**2)\n",
        "SSR = np.sum((average_view - real_pred)**2)\n",
        "r_squared = 1- (SSR/SST)\n",
        "\n",
        "print('MSE:',MSE)\n",
        "print('r_squared:',r_squared)\n",
        "\n",
        "test_error = np.abs(test_error)\n",
        "top_10 = np.argsort(test_error)[::-1][:10]\n",
        "\n",
        "for i in top_10:\n",
        "  print(average_view[i])\n",
        "  print(subscribers[i])\n",
        "  print(views[i])\n",
        "  print(uploads[i])\n",
        "  print('-----')\n"
      ]
    }
  ]
}