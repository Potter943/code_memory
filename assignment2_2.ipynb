{
  "nbformat": 4,
  "nbformat_minor": 0,
  "metadata": {
    "colab": {
      "provenance": [],
      "authorship_tag": "ABX9TyPTcu6W9AUbj0PUH7OQrFj7",
      "include_colab_link": true
    },
    "kernelspec": {
      "name": "python3",
      "display_name": "Python 3"
    },
    "language_info": {
      "name": "python"
    }
  },
  "cells": [
    {
      "cell_type": "markdown",
      "metadata": {
        "id": "view-in-github",
        "colab_type": "text"
      },
      "source": [
        "<a href=\"https://colab.research.google.com/github/Potter943/code_memory/blob/main/assignment2_2.ipynb\" target=\"_parent\"><img src=\"https://colab.research.google.com/assets/colab-badge.svg\" alt=\"Open In Colab\"/></a>"
      ]
    },
    {
      "source": [
        "import pandas as pd\n",
        "import numpy as np\n",
        "\n",
        "file = pd.read_csv(\"/content/Global_YouTube_Statistics.csv\", encoding='latin-1')\n",
        "file = file.dropna(subset=['subscribers', 'video views', 'uploads'])\n",
        "file = file[file['uploads'] != 0]\n",
        "\n",
        "subscribers = file['subscribers'].astype(float).to_numpy() #x\n",
        "views = file['video views'].astype(float).to_numpy()\n",
        "uploads = file['uploads'].astype(float).to_numpy()\n",
        "\n",
        "average_view = np.divide(views,uploads) #y\n",
        "\n",
        "x_mean = np.mean(subscribers)\n",
        "y_mean = np.mean(average_view)\n",
        "n = len(subscribers)\n",
        "\n",
        "a0 = 0.0\n",
        "a1 = 0.0\n",
        "learning_rate = 0.001\n",
        "epochs = 1000\n",
        "\n",
        "for i in range(epochs):\n",
        "\ty_pred = a0 + a1*subscribers\n",
        "\terror = y_pred - average_view\n",
        "\n",
        "\tdelta_a0 = np.mean(error)\n",
        "\tdelta_a1 = np.mean(subscribers*error)\n",
        "\n",
        "\ta0 = a0 - learning_rate*delta_a0\n",
        "\ta1 = a1 - learning_rate*delta_a1\n",
        "\n",
        "test = np.array([1000000,10000000,30000000,50000000,100000000])\n",
        "pred = a0 + a1*test\n",
        "\n",
        "print(pred)\n",
        "\n",
        "subscribers_normalised = (subscribers - x_mean) / np.std(subscribers)\n",
        "average_view_normalised = (average_view - y_mean) / np.std(average_view)\n",
        "\n",
        "norm_a0 = 0.0\n",
        "norm_a1 = 0.0\n",
        "for i in range(epochs):\n",
        "\ty_norm_pred = norm_a0 + norm_a1*subscribers_normalised\n",
        "\tnorm_error = y_norm_pred - average_view_normalised\n",
        "\n",
        "\tnorm_delta_a0 = np.mean(norm_error)\n",
        "\tnorm_delta_a1 = np.mean(subscribers_normalised*norm_error)\n",
        "\n",
        "\tnorm_a0 = norm_a0 - learning_rate*norm_delta_a0\n",
        "\tnorm_a1 = norm_a1 - learning_rate*norm_delta_a1\n",
        "\n",
        "norm_test = (test - np.mean(test))/np.std(test)\n",
        "norm_pred = norm_a0 + norm_a1*norm_test\n",
        "\n",
        "real_pred = norm_pred*np.std(average_view) + y_mean\n",
        "\n",
        "print(norm_pred)\n",
        "print(real_pred)"
      ],
      "cell_type": "code",
      "metadata": {
        "colab": {
          "base_uri": "https://localhost:8080/"
        },
        "id": "YY5Eel_ILoMn",
        "outputId": "33c10d6a-1eb0-4957-df91-46247b7b6856"
      },
      "execution_count": 6,
      "outputs": [
        {
          "output_type": "stream",
          "name": "stdout",
          "text": [
            "[nan nan nan nan nan]\n",
            "[-0.08905939 -0.06751276 -0.01963137  0.02825002  0.1479535 ]\n",
            "[2.22364992e+08 2.73764139e+08 3.87984464e+08 5.02204790e+08\n",
            " 7.87755604e+08]\n"
          ]
        },
        {
          "output_type": "stream",
          "name": "stderr",
          "text": [
            "/usr/local/lib/python3.11/dist-packages/numpy/_core/_methods.py:127: RuntimeWarning: overflow encountered in reduce\n",
            "  ret = umr_sum(arr, axis, dtype, out, keepdims, where=where)\n",
            "<ipython-input-6-766bc61f8f49>:28: RuntimeWarning: overflow encountered in multiply\n",
            "  delta_a1 = np.mean(subscribers*error)\n",
            "<ipython-input-6-766bc61f8f49>:30: RuntimeWarning: invalid value encountered in scalar subtract\n",
            "  a0 = a0 - learning_rate*delta_a0\n",
            "<ipython-input-6-766bc61f8f49>:31: RuntimeWarning: invalid value encountered in scalar subtract\n",
            "  a1 = a1 - learning_rate*delta_a1\n"
          ]
        }
      ]
    }
  ]
}