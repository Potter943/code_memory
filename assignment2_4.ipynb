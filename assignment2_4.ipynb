{
  "nbformat": 4,
  "nbformat_minor": 0,
  "metadata": {
    "colab": {
      "provenance": [],
      "authorship_tag": "ABX9TyOxo65nk0VALQMgE5Uuu1e7",
      "include_colab_link": true
    },
    "kernelspec": {
      "name": "python3",
      "display_name": "Python 3"
    },
    "language_info": {
      "name": "python"
    }
  },
  "cells": [
    {
      "cell_type": "markdown",
      "metadata": {
        "id": "view-in-github",
        "colab_type": "text"
      },
      "source": [
        "<a href=\"https://colab.research.google.com/github/Potter943/code_memory/blob/main/assignment2_4.ipynb\" target=\"_parent\"><img src=\"https://colab.research.google.com/assets/colab-badge.svg\" alt=\"Open In Colab\"/></a>"
      ]
    },
    {
      "cell_type": "code",
      "execution_count": 17,
      "metadata": {
        "colab": {
          "base_uri": "https://localhost:8080/"
        },
        "id": "DFOZgMKCByoP",
        "outputId": "4f5ec201-ac89-490d-cd92-f2b8be238e0d"
      },
      "outputs": [
        {
          "output_type": "stream",
          "name": "stdout",
          "text": [
            "-3.2649549384615162e-18 0.10358401651205723 0.32166057486395333 0.1309053882278069 -0.05621198829598241 -0.007695222869410586\n",
            "MSE: 1.7441642369941906e+18\n",
            "r_squared: 0.21656588793658715\n"
          ]
        }
      ],
      "source": [
        "import pandas as pd\n",
        "import numpy as np\n",
        "\n",
        "file = pd.read_csv('/content/Global_YouTube_Statistics.csv', encoding ='latin-1')\n",
        "file = file.dropna(subset=['subscribers','video views','uploads','video_views_rank','channel_type_rank','video_views_for_the_last_30_days','subscribers_for_last_30_days'])\n",
        "file = file[file['uploads'] != 0]\n",
        "\n",
        "x1 = file['subscribers'].astype(float).to_numpy()\n",
        "x2 = file['video_views_rank'].astype(float).to_numpy()\n",
        "x3 = file['channel_type_rank'].astype(float).to_numpy()\n",
        "x4 = file['video_views_for_the_last_30_days'].astype(float).to_numpy()\n",
        "x5 = file['subscribers_for_last_30_days'].astype(float).to_numpy()\n",
        "\n",
        "views = file['video views'].astype(float).to_numpy()\n",
        "uploads = file['uploads'].astype(float).to_numpy()\n",
        "y = np.divide(views,uploads) #average_view\n",
        "x1_mean = np.mean(x1)\n",
        "x2_mean = np.mean(x2)\n",
        "x3_mean = np.mean(x3)\n",
        "x4_mean = np.mean(x4)\n",
        "x5_mean = np.mean(x5)\n",
        "y_mean = np.mean(y)\n",
        "\n",
        "x1_std = np.std(x1)\n",
        "x2_std = np.std(x2)\n",
        "x3_std = np.std(x3)\n",
        "x4_std = np.std(x4)\n",
        "x5_std = np.std(x5)\n",
        "y_std = np.std(y)\n",
        "n = len(y)\n",
        "\n",
        "norm_x1 = (x1 - x1_mean) / x1_std\n",
        "norm_x2 = (x2 - x2_mean) / x2_std\n",
        "norm_x3 = (x3 - x3_mean) / x3_std\n",
        "norm_x4 = (x4 - x4_mean) / x4_std\n",
        "norm_x5 = (x5 - x5_mean) / x5_std\n",
        "norm_y = (y - y_mean) / y_std\n",
        "\n",
        "a0,a1,a2,a3,a4,a5 = np.zeros(6)\n",
        "learning_rate = 0.005\n",
        "epochs = 1000\n",
        "\n",
        "for i in range(epochs):\n",
        "    y_pred = a0 + a1 * norm_x1 + a2 * norm_x2 + a3 * norm_x3 + a4 * norm_x4 + a5 * norm_x5\n",
        "    error = y_pred - norm_y\n",
        "\n",
        "    a0 = a0 - learning_rate * np.mean(error)\n",
        "    a1 = a1 - learning_rate * np.mean(error * norm_x1)\n",
        "    a2 = a2 - learning_rate * np.mean(error * norm_x2)\n",
        "    a3 = a3 - learning_rate * np.mean(error * norm_x3)\n",
        "    a4 = a4 - learning_rate * np.mean(error * norm_x4)\n",
        "    a5 = a5 - learning_rate * np.mean(error * norm_x5)\n",
        "\n",
        "print(a0,a1,a2,a3,a4,a5)\n",
        "\n",
        "norm_pred_y = a0 + a1 * norm_x1 + a2 * norm_x2 + a3 * norm_x3 + a4 * norm_x4 + a5 * norm_x5\n",
        "real_pred_y = norm_pred_y * y_std + y_mean\n",
        "\n",
        "test_error = y - real_pred_y\n",
        "MSE = np.mean(test_error**2)\n",
        "\n",
        "SST = np.sum((y - y_mean)**2)\n",
        "SSR = np.sum((y - real_pred_y)**2)\n",
        "r_squared = 1- (SSR/SST)\n",
        "\n",
        "print('MSE:',MSE)\n",
        "print('r_squared:',r_squared)"
      ]
    }
  ]
}